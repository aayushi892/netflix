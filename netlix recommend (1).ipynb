{
 "cells": [
  {
   "cell_type": "code",
   "execution_count": 2,
   "id": "6206eeeb",
   "metadata": {},
   "outputs": [
    {
     "data": {
      "text/html": [
       "<div>\n",
       "<style scoped>\n",
       "    .dataframe tbody tr th:only-of-type {\n",
       "        vertical-align: middle;\n",
       "    }\n",
       "\n",
       "    .dataframe tbody tr th {\n",
       "        vertical-align: top;\n",
       "    }\n",
       "\n",
       "    .dataframe thead th {\n",
       "        text-align: right;\n",
       "    }\n",
       "</style>\n",
       "<table border=\"1\" class=\"dataframe\">\n",
       "  <thead>\n",
       "    <tr style=\"text-align: right;\">\n",
       "      <th></th>\n",
       "      <th>names</th>\n",
       "      <th>release_year</th>\n",
       "      <th>maturity_rating</th>\n",
       "      <th>duration</th>\n",
       "      <th>description</th>\n",
       "      <th>genre</th>\n",
       "      <th>mood</th>\n",
       "      <th>cast</th>\n",
       "      <th>subtitles</th>\n",
       "      <th>audio</th>\n",
       "    </tr>\n",
       "  </thead>\n",
       "  <tbody>\n",
       "    <tr>\n",
       "      <th>0</th>\n",
       "      <td>Mission Majnu</td>\n",
       "      <td>2023</td>\n",
       "      <td>U/A 16+</td>\n",
       "      <td>2h 9m</td>\n",
       "      <td>In the 1970s, an undercover Indian spy takes o...</td>\n",
       "      <td>['Spy Movies', 'Hindi-Language Movies', 'Bolly...</td>\n",
       "      <td>Suspenseful</td>\n",
       "      <td>['Sidharth Malhotra', 'Rashmika Mandanna', 'Pa...</td>\n",
       "      <td>['English,', 'English,', 'Hindi']</td>\n",
       "      <td>['English,', 'Hindi - Audio Description,', 'Hi...</td>\n",
       "    </tr>\n",
       "    <tr>\n",
       "      <th>1</th>\n",
       "      <td>Cirkus</td>\n",
       "      <td>2022</td>\n",
       "      <td>U/A 7+</td>\n",
       "      <td>2h 14m</td>\n",
       "      <td>Chaos and comedy take the spotlight when a rin...</td>\n",
       "      <td>['Hindi-Language Movies', 'Bollywood Movies', ...</td>\n",
       "      <td>Goofy</td>\n",
       "      <td>['Ranveer Singh', 'Varun Sharma', 'Pooja Hegde...</td>\n",
       "      <td>['English,', 'Hindi']</td>\n",
       "      <td>['Hindi [Original]']</td>\n",
       "    </tr>\n",
       "    <tr>\n",
       "      <th>2</th>\n",
       "      <td>Gangubai Kathiawadi</td>\n",
       "      <td>2022</td>\n",
       "      <td>U/A 16+</td>\n",
       "      <td>2h 33m</td>\n",
       "      <td>Duped and sold to a brothel, a young woman fea...</td>\n",
       "      <td>['Hindi-Language Movies', 'Movies Based on Boo...</td>\n",
       "      <td>Provocative</td>\n",
       "      <td>['Alia Bhatt', 'Vijay Raaz', 'Seema Pahwa', 'A...</td>\n",
       "      <td>['English,', 'Hindi']</td>\n",
       "      <td>['Hindi [Original],', 'Telugu']</td>\n",
       "    </tr>\n",
       "    <tr>\n",
       "      <th>3</th>\n",
       "      <td>Thunivu</td>\n",
       "      <td>2023</td>\n",
       "      <td>U/A 16+</td>\n",
       "      <td>2h 22m</td>\n",
       "      <td>A major bank heist takes an unnerving turn whe...</td>\n",
       "      <td>['Crime Movies', 'Action &amp; Adventure']</td>\n",
       "      <td>Exciting</td>\n",
       "      <td>['Ajith Kumar', 'Manju Warrier', 'Samuthirakan...</td>\n",
       "      <td>['English,', 'Hindi']</td>\n",
       "      <td>['Tamil [Original]']</td>\n",
       "    </tr>\n",
       "    <tr>\n",
       "      <th>4</th>\n",
       "      <td>Bhool Bhulaiyaa 2</td>\n",
       "      <td>2022</td>\n",
       "      <td>U/A 13+</td>\n",
       "      <td>2h 21m</td>\n",
       "      <td>When strangers Reet and Ruhan cross paths, the...</td>\n",
       "      <td>['Hindi-Language Movies', 'Bollywood Movies', ...</td>\n",
       "      <td>Offbeat,</td>\n",
       "      <td>['Tabu', 'Kartik Aaryan', 'Kiara Advani', 'Raj...</td>\n",
       "      <td>['English,', 'Hindi']</td>\n",
       "      <td>['Hindi [Original]']</td>\n",
       "    </tr>\n",
       "  </tbody>\n",
       "</table>\n",
       "</div>"
      ],
      "text/plain": [
       "                 names  release_year maturity_rating duration  \\\n",
       "0        Mission Majnu          2023        U/A 16+     2h 9m   \n",
       "1               Cirkus          2022         U/A 7+    2h 14m   \n",
       "2  Gangubai Kathiawadi          2022        U/A 16+    2h 33m   \n",
       "3              Thunivu          2023        U/A 16+    2h 22m   \n",
       "4    Bhool Bhulaiyaa 2          2022        U/A 13+    2h 21m   \n",
       "\n",
       "                                         description  \\\n",
       "0  In the 1970s, an undercover Indian spy takes o...   \n",
       "1  Chaos and comedy take the spotlight when a rin...   \n",
       "2  Duped and sold to a brothel, a young woman fea...   \n",
       "3  A major bank heist takes an unnerving turn whe...   \n",
       "4  When strangers Reet and Ruhan cross paths, the...   \n",
       "\n",
       "                                               genre         mood  \\\n",
       "0  ['Spy Movies', 'Hindi-Language Movies', 'Bolly...  Suspenseful   \n",
       "1  ['Hindi-Language Movies', 'Bollywood Movies', ...        Goofy   \n",
       "2  ['Hindi-Language Movies', 'Movies Based on Boo...  Provocative   \n",
       "3             ['Crime Movies', 'Action & Adventure']     Exciting   \n",
       "4  ['Hindi-Language Movies', 'Bollywood Movies', ...     Offbeat,   \n",
       "\n",
       "                                                cast  \\\n",
       "0  ['Sidharth Malhotra', 'Rashmika Mandanna', 'Pa...   \n",
       "1  ['Ranveer Singh', 'Varun Sharma', 'Pooja Hegde...   \n",
       "2  ['Alia Bhatt', 'Vijay Raaz', 'Seema Pahwa', 'A...   \n",
       "3  ['Ajith Kumar', 'Manju Warrier', 'Samuthirakan...   \n",
       "4  ['Tabu', 'Kartik Aaryan', 'Kiara Advani', 'Raj...   \n",
       "\n",
       "                           subtitles  \\\n",
       "0  ['English,', 'English,', 'Hindi']   \n",
       "1              ['English,', 'Hindi']   \n",
       "2              ['English,', 'Hindi']   \n",
       "3              ['English,', 'Hindi']   \n",
       "4              ['English,', 'Hindi']   \n",
       "\n",
       "                                               audio  \n",
       "0  ['English,', 'Hindi - Audio Description,', 'Hi...  \n",
       "1                               ['Hindi [Original]']  \n",
       "2                    ['Hindi [Original],', 'Telugu']  \n",
       "3                               ['Tamil [Original]']  \n",
       "4                               ['Hindi [Original]']  "
      ]
     },
     "execution_count": 2,
     "metadata": {},
     "output_type": "execute_result"
    }
   ],
   "source": [
    "import pandas as pd\n",
    "data=pd.read_csv(\"netfix_cleaned.csv\")\n",
    "data.head()"
   ]
  },
  {
   "cell_type": "code",
   "execution_count": 3,
   "id": "a1e40d84",
   "metadata": {},
   "outputs": [],
   "source": [
    "import numpy as np\n",
    "from sklearn.feature_extraction import text\n",
    "from sklearn.metrics.pairwise import cosine_similarity"
   ]
  },
  {
   "cell_type": "code",
   "execution_count": 4,
   "id": "cb78e86b",
   "metadata": {},
   "outputs": [
    {
     "name": "stdout",
     "output_type": "stream",
     "text": [
      "names               0\n",
      "release_year        0\n",
      "maturity_rating     0\n",
      "duration            0\n",
      "description         0\n",
      "genre               0\n",
      "mood               43\n",
      "cast                0\n",
      "subtitles           0\n",
      "audio               0\n",
      "dtype: int64\n"
     ]
    }
   ],
   "source": [
    "print(data.isnull().sum())"
   ]
  },
  {
   "cell_type": "code",
   "execution_count": 5,
   "id": "b83f03fc",
   "metadata": {},
   "outputs": [
    {
     "name": "stdout",
     "output_type": "stream",
     "text": [
      "                 names                                        description  \\\n",
      "0        Mission Majnu  In the 1970s, an undercover Indian spy takes o...   \n",
      "1               Cirkus  Chaos and comedy take the spotlight when a rin...   \n",
      "2  Gangubai Kathiawadi  Duped and sold to a brothel, a young woman fea...   \n",
      "3              Thunivu  A major bank heist takes an unnerving turn whe...   \n",
      "4    Bhool Bhulaiyaa 2  When strangers Reet and Ruhan cross paths, the...   \n",
      "\n",
      "  maturity_rating                                              genre  \n",
      "0        U/A 16+   ['Spy Movies', 'Hindi-Language Movies', 'Bolly...  \n",
      "1         U/A 7+   ['Hindi-Language Movies', 'Bollywood Movies', ...  \n",
      "2        U/A 16+   ['Hindi-Language Movies', 'Movies Based on Boo...  \n",
      "3        U/A 16+              ['Crime Movies', 'Action & Adventure']  \n",
      "4        U/A 13+   ['Hindi-Language Movies', 'Bollywood Movies', ...  \n"
     ]
    }
   ],
   "source": [
    "data = data[[\"names\", \"description\", \"maturity_rating\", \"genre\"]]\n",
    "print(data.head())"
   ]
  },
  {
   "cell_type": "code",
   "execution_count": 6,
   "id": "db44ed0f",
   "metadata": {},
   "outputs": [],
   "source": [
    "data=data.dropna()"
   ]
  },
  {
   "cell_type": "code",
   "execution_count": 7,
   "id": "7b07fee2",
   "metadata": {},
   "outputs": [
    {
     "name": "stderr",
     "output_type": "stream",
     "text": [
      "[nltk_data] Downloading package stopwords to C:\\Users\\aayushi\n",
      "[nltk_data]     sinha\\AppData\\Roaming\\nltk_data...\n",
      "[nltk_data]   Package stopwords is already up-to-date!\n"
     ]
    }
   ],
   "source": [
    "import nltk\n",
    "import re\n",
    "nltk.download('stopwords')\n",
    "stemmer = nltk.SnowballStemmer(\"english\")\n",
    "from nltk.corpus import stopwords\n",
    "import string\n",
    "stopword=set(stopwords.words('english'))\n",
    "\n",
    "def clean(text):\n",
    "    text = str(text).lower()\n",
    "    text = re.sub('\\[.*?\\]', '', text)\n",
    "    text = re.sub('https?://\\S+|www\\.\\S+', '', text)\n",
    "    text = re.sub('<.*?>+', '', text)\n",
    "    text = re.sub('[%s]' % re.escape(string.punctuation), '', text)\n",
    "    text = re.sub('\\n', '', text)\n",
    "    text = re.sub('\\w*\\d\\w*', '', text)\n",
    "    text = [word for word in text.split(' ') if word not in stopword]\n",
    "    text=\" \".join(text)\n",
    "    text = [stemmer.stem(word) for word in text.split(' ')]\n",
    "    text=\" \".join(text)\n",
    "    return text\n",
    "data[\"names\"] = data[\"names\"].apply(clean)"
   ]
  },
  {
   "cell_type": "code",
   "execution_count": 8,
   "id": "7848944c",
   "metadata": {},
   "outputs": [
    {
     "name": "stdout",
     "output_type": "stream",
     "text": [
      "275                  spiderman way home\n",
      "543                       kantara hindi\n",
      "179                               stray\n",
      "257                           raw hindi\n",
      "322    chhota bheem  krishna mayanagari\n",
      "206                        stuart littl\n",
      "329                           tom jerri\n",
      "417                                moon\n",
      "266                        sarkar tamil\n",
      "319                               invit\n",
      "Name: names, dtype: object\n"
     ]
    }
   ],
   "source": [
    "print(data.names.sample(10))"
   ]
  },
  {
   "cell_type": "code",
   "execution_count": 11,
   "id": "4f4ca5cf",
   "metadata": {},
   "outputs": [],
   "source": [
    "from sklearn.feature_extraction.text import TfidfVectorizer\n",
    "from sklearn.metrics.pairwise import cosine_similarity\n",
    "\n",
    "features = data[\"genre\"].tolist()\n",
    "\n",
    "vectorizer = TfidfVectorizer(stop_words=\"english\")\n",
    "matrix = vectorizer.fit_transform(features)\n",
    "similarity = cosine_similarity(matrix)\n"
   ]
  },
  {
   "cell_type": "code",
   "execution_count": 13,
   "id": "7ac235cd",
   "metadata": {
    "scrolled": true
   },
   "outputs": [
    {
     "data": {
      "text/html": [
       "<div>\n",
       "<style scoped>\n",
       "    .dataframe tbody tr th:only-of-type {\n",
       "        vertical-align: middle;\n",
       "    }\n",
       "\n",
       "    .dataframe tbody tr th {\n",
       "        vertical-align: top;\n",
       "    }\n",
       "\n",
       "    .dataframe thead th {\n",
       "        text-align: right;\n",
       "    }\n",
       "</style>\n",
       "<table border=\"1\" class=\"dataframe\">\n",
       "  <thead>\n",
       "    <tr style=\"text-align: right;\">\n",
       "      <th></th>\n",
       "      <th>names</th>\n",
       "      <th>description</th>\n",
       "      <th>maturity_rating</th>\n",
       "      <th>genre</th>\n",
       "    </tr>\n",
       "  </thead>\n",
       "  <tbody>\n",
       "    <tr>\n",
       "      <th>557</th>\n",
       "      <td>major telugu</td>\n",
       "      <td>This biopic follows the life of Indian Army of...</td>\n",
       "      <td>U/A 16+</td>\n",
       "      <td>['Movies Based on Real Life', 'Action &amp; Advent...</td>\n",
       "    </tr>\n",
       "    <tr>\n",
       "      <th>558</th>\n",
       "      <td>om shanti om</td>\n",
       "      <td>Reincarnated 30 years after being killed in a ...</td>\n",
       "      <td>U/A 16+</td>\n",
       "      <td>['Romantic Comedies', 'Hindi-Language Movies',...</td>\n",
       "    </tr>\n",
       "    <tr>\n",
       "      <th>559</th>\n",
       "      <td>kabhi khushi kabhi gham</td>\n",
       "      <td>Years after his father disowns his adopted bro...</td>\n",
       "      <td>U/A 13+</td>\n",
       "      <td>['Hindi-Language Movies', 'Bollywood Movies', ...</td>\n",
       "    </tr>\n",
       "  </tbody>\n",
       "</table>\n",
       "</div>"
      ],
      "text/plain": [
       "                       names  \\\n",
       "557             major telugu   \n",
       "558             om shanti om   \n",
       "559  kabhi khushi kabhi gham   \n",
       "\n",
       "                                           description maturity_rating  \\\n",
       "557  This biopic follows the life of Indian Army of...        U/A 16+    \n",
       "558  Reincarnated 30 years after being killed in a ...        U/A 16+    \n",
       "559  Years after his father disowns his adopted bro...        U/A 13+    \n",
       "\n",
       "                                                 genre  \n",
       "557  ['Movies Based on Real Life', 'Action & Advent...  \n",
       "558  ['Romantic Comedies', 'Hindi-Language Movies',...  \n",
       "559  ['Hindi-Language Movies', 'Bollywood Movies', ...  "
      ]
     },
     "execution_count": 13,
     "metadata": {},
     "output_type": "execute_result"
    }
   ],
   "source": [
    "data.tail(3)"
   ]
  },
  {
   "cell_type": "code",
   "execution_count": 49,
   "id": "24116585",
   "metadata": {},
   "outputs": [],
   "source": [
    "\n",
    "\n",
    "indices = pd.Series(data.index,index=data['names']).drop_duplicates()"
   ]
  },
  {
   "cell_type": "code",
   "execution_count": null,
   "id": "a210d641",
   "metadata": {},
   "outputs": [],
   "source": []
  },
  {
   "cell_type": "code",
   "execution_count": 14,
   "id": "bd64d3f3",
   "metadata": {},
   "outputs": [
    {
     "ename": "NameError",
     "evalue": "name 'names' is not defined",
     "output_type": "error",
     "traceback": [
      "\u001b[1;31m---------------------------------------------------------------------------\u001b[0m",
      "\u001b[1;31mNameError\u001b[0m                                 Traceback (most recent call last)",
      "Cell \u001b[1;32mIn[14], line 14\u001b[0m\n\u001b[0;32m     11\u001b[0m         \u001b[38;5;28;01mreturn\u001b[39;00m \u001b[38;5;28;01mNone\u001b[39;00m\n\u001b[0;32m     13\u001b[0m movie_name \u001b[38;5;241m=\u001b[39m \u001b[38;5;124m\"\u001b[39m\u001b[38;5;124mCirkus\u001b[39m\u001b[38;5;124m\"\u001b[39m\n\u001b[1;32m---> 14\u001b[0m recommendations \u001b[38;5;241m=\u001b[39m netflix_recommendation(\u001b[43mnames\u001b[49m, similarity, indices, data)\n\u001b[0;32m     15\u001b[0m \u001b[38;5;28;01mif\u001b[39;00m recommendations \u001b[38;5;129;01mis\u001b[39;00m \u001b[38;5;129;01mnot\u001b[39;00m \u001b[38;5;28;01mNone\u001b[39;00m:\n\u001b[0;32m     16\u001b[0m     \u001b[38;5;28mprint\u001b[39m(recommendations)\n",
      "\u001b[1;31mNameError\u001b[0m: name 'names' is not defined"
     ]
    }
   ],
   "source": [
    "\n",
    "def netflix_recommendation(Names,similarity_matrix, indices, data):\n",
    "    if names in indices:\n",
    "        index = indices[names]\n",
    "        similarity_scores = similarity_matrix[index]\n",
    "        top_indices = similarity_scores.argsort()[::-1][:10]\n",
    "        recommended_movies = data.loc[top_indices, 'names']\n",
    "        return recommended_movies\n",
    "        print(f\"movie '{names}' found\")\n",
    "    else:\n",
    "        print(f\"Movie '{names}' not found in the dataset.\")\n",
    "        return None\n",
    "\n",
    "movie_name = \"Cirkus\"\n",
    "recommendations = netflix_recommendation(names, similarity, indices, data)\n",
    "if recommendations is not None:\n",
    "    print(recommendations)\n"
   ]
  },
  {
   "cell_type": "code",
   "execution_count": null,
   "id": "6ea41e79",
   "metadata": {},
   "outputs": [],
   "source": []
  },
  {
   "cell_type": "code",
   "execution_count": null,
   "id": "11b3e1c3",
   "metadata": {},
   "outputs": [],
   "source": []
  },
  {
   "cell_type": "code",
   "execution_count": null,
   "id": "d732f7cd",
   "metadata": {},
   "outputs": [],
   "source": []
  }
 ],
 "metadata": {
  "kernelspec": {
   "display_name": "Python 3 (ipykernel)",
   "language": "python",
   "name": "python3"
  },
  "language_info": {
   "codemirror_mode": {
    "name": "ipython",
    "version": 3
   },
   "file_extension": ".py",
   "mimetype": "text/x-python",
   "name": "python",
   "nbconvert_exporter": "python",
   "pygments_lexer": "ipython3",
   "version": "3.10.9"
  }
 },
 "nbformat": 4,
 "nbformat_minor": 5
}
